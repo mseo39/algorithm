{
 "cells": [
  {
   "attachments": {},
   "cell_type": "markdown",
   "metadata": {},
   "source": [
    "로그를 재정렬해라 기준은 다음과 같다\n",
    "로그의 가장 앞부분은 식별자다\n",
    "문자로 구성된 로그가 숫자 로그보다 앞에 온다\n",
    "식별자는 순서에 영향을 끼치지 아노지만 문자가 동일할 경우 식별자 순으로 한다\n",
    "숫자로그는 입력순서대로 한다\n",
    "\n",
    "Example 1:\n",
    "Input: logs = [\"dig1 8 1 5 1\",\"let1 art can\",\"dig2 3 6\",\"let2 own kit dig\",\"let3 art zero\"] Output: [\"let1 art can\",\"let3 art zero\",\"let2 own kit dig\",\"dig1 8 1 5 1\",\"dig2 3 6\"] Explanation: The letter-log contents are all different, so their ordering is \"art can\", \"art zero\", \"own kit dig\". The digit-logs have a relative order of \"dig1 8 1 5 1\", \"dig2 3 6\".\n",
    "\n",
    "Example 2:\n",
    "Input: logs = [\"a1 9 2 3 1\",\"g1 act car\",\"zo4 4 7\",\"ab1 off key dog\",\"a8 act zoo\"] Output: [\"g1 act car\",\"a8 act zoo\",\"ab1 off key dog\",\"a1 9 2 3 1\",\"zo4 4 7\"]\n",
    "\n",
    "-> 요구조건을 얼마나 깔끔하게 처리할 수 있는지를 묻는 문제"
   ]
  },
  {
   "cell_type": "code",
   "execution_count": null,
   "metadata": {},
   "outputs": [],
   "source": [
    "#풀이 1 람다와 +연산자를 이용\n",
    "#문자와 숫자를 구분하고, 숫자는 나중에 그대로 이어 붙인다\n",
    "#숫자도 문자열로 제공하기 때문에 타입을 확인하면 모두 문자열로 나옴 그래서 isdigit() 함수를 이용하요 숫자여부를 판별한다\n",
    "def reorderLogFiles(logs:list[str])->list[str]:\n",
    "    letters, digit=[],[]\n",
    "    for i in logs:\n",
    "        if i.split()[1].isdigit():\n",
    "            digit.append(i)\n",
    "        else:\n",
    "            letters.append(i)\n",
    "    letters.sort(key=lambda x:(x.split()[1], x.split()[0]))\n",
    "    return letters+digit"
   ]
  }
 ],
 "metadata": {
  "language_info": {
   "name": "python"
  },
  "orig_nbformat": 4
 },
 "nbformat": 4,
 "nbformat_minor": 2
}
