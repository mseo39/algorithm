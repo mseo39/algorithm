{
 "cells": [
  {
   "attachments": {},
   "cell_type": "markdown",
   "metadata": {},
   "source": [
    "### itertools을 사용한 조합\n",
    "* 파이썬에서 조합을 구하는 방법\n",
    "* combinations(조합 원소 배열,조합 원소 개수)"
   ]
  },
  {
   "cell_type": "code",
   "execution_count": 1,
   "metadata": {},
   "outputs": [
    {
     "name": "stdout",
     "output_type": "stream",
     "text": [
      "[(1, 2, 3), (1, 2, 4), (1, 3, 4), (2, 3, 4)]\n"
     ]
    }
   ],
   "source": [
    "from itertools import combinations\n",
    "\n",
    "#1,2,3,4중에서 3개 원소를 가져와서 조합을 만든다 이 조합들은 중복되지 않는다\n",
    "print(list(combinations([1,2,3,4],3)))"
   ]
  },
  {
   "cell_type": "code",
   "execution_count": 12,
   "metadata": {},
   "outputs": [
    {
     "name": "stdout",
     "output_type": "stream",
     "text": [
      "[1, 2, 3]\n",
      "1\n",
      "2\n",
      "3\n"
     ]
    }
   ],
   "source": [
    "#N과 M(2) 15650\n",
    "\"\"\"\n",
    "자연수 N과 M이 주어졌을 때, 아래 조건을 만족하는 길이가 M인 수열을 모두 구하는 프로그램을 작성하시오\n",
    "- 1부터 N까지 자연수 중에서 중복없이 M개를 고른 수열\n",
    "-고른 수열은 오름차순이다\n",
    "\"\"\"\n",
    "from itertools import combinations\n",
    "\n",
    "N,M = map(int, input().split())\n",
    "\n",
    "num=[i for i in range(1,N+1)]\n",
    "for i in list(combinations(num,M)):\n",
    "    print(*i)"
   ]
  },
  {
   "attachments": {},
   "cell_type": "markdown",
   "metadata": {},
   "source": [
    "### itertools을 사용한 순열\n",
    "* 1부터 N까지 자연수 중에서 중복 없이 M개를 고른 수열\n",
    "* permutations(조합 원소 배열,조합 원소 개수)"
   ]
  },
  {
   "cell_type": "code",
   "execution_count": 15,
   "metadata": {},
   "outputs": [
    {
     "name": "stdout",
     "output_type": "stream",
     "text": [
      "1 2 3 4\n",
      "1 2 4 3\n",
      "1 3 2 4\n",
      "1 3 4 2\n",
      "1 4 2 3\n",
      "1 4 3 2\n",
      "2 1 3 4\n",
      "2 1 4 3\n",
      "2 3 1 4\n",
      "2 3 4 1\n",
      "2 4 1 3\n",
      "2 4 3 1\n",
      "3 1 2 4\n",
      "3 1 4 2\n",
      "3 2 1 4\n",
      "3 2 4 1\n",
      "3 4 1 2\n",
      "3 4 2 1\n",
      "4 1 2 3\n",
      "4 1 3 2\n",
      "4 2 1 3\n",
      "4 2 3 1\n",
      "4 3 1 2\n",
      "4 3 2 1\n"
     ]
    }
   ],
   "source": [
    "#N과 M(1) 15649\n",
    "\"\"\"\n",
    "자연수 N과 M이 주어졌을 때, 아래 조건을 만족하는 길이가 M인 수열을 모두 구하는 프로그램을 작성하시오\n",
    "- 1부터 N까지 자연수 중에서 중복 없이 M개를 고른 수열\n",
    "\"\"\"\n",
    "from itertools import permutations\n",
    "\n",
    "N,M = map(int, input().split())\n",
    "\n",
    "num=[i for i in range(1,N+1)]\n",
    "\n",
    "for e in list(permutations(num,M)):\n",
    "    print(*e)"
   ]
  },
  {
   "attachments": {},
   "cell_type": "markdown",
   "metadata": {},
   "source": [
    "조합, 군열 중복가능하게 하는 법\n",
    "\n",
    "중복 순열\n",
    "from itertools import product\n",
    "\n",
    "중복 조합\n",
    "from itertools import combinations_with_replacement"
   ]
  }
 ],
 "metadata": {
  "kernelspec": {
   "display_name": "Python 3",
   "language": "python",
   "name": "python3"
  },
  "language_info": {
   "codemirror_mode": {
    "name": "ipython",
    "version": 3
   },
   "file_extension": ".py",
   "mimetype": "text/x-python",
   "name": "python",
   "nbconvert_exporter": "python",
   "pygments_lexer": "ipython3",
   "version": "3.9.6"
  },
  "orig_nbformat": 4
 },
 "nbformat": 4,
 "nbformat_minor": 2
}
